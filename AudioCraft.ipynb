{
  "nbformat": 4,
  "nbformat_minor": 0,
  "metadata": {
    "colab": {
      "provenance": []
    },
    "kernelspec": {
      "name": "python3",
      "display_name": "Python 3"
    },
    "language_info": {
      "name": "python"
    }
  },
  "cells": [
    {
      "cell_type": "markdown",
      "source": [
        "\n",
        "\n",
        "# ⭐️ Give This Project a Star!\n",
        "\n",
        "If you find this tool helpful, please consider giving it a **star** on GitHub! 🌟  \n",
        "Also, don’t forget to **follow me** for more awesome projects! 🙌\n",
        "\n",
        "\n",
        "[![GitHub Stars](https://img.shields.io/github/stars/codermillat/AudioMasterTool?style=social)](https://github.com/codermillat/AudioMasterTool/stargazers)  \n",
        "[![GitHub Follow](https://img.shields.io/github/followers/codermillat?style=social)](https://github.com/codermillat)\n",
        "\n",
        "\n",
        "\n"
      ],
      "metadata": {
        "id": "XVUKLWy4hZUs"
      }
    },
    {
      "cell_type": "code",
      "execution_count": null,
      "metadata": {
        "id": "l0TkGTZBdUsG"
      },
      "outputs": [],
      "source": [
        "#@title Mount Google Drive\n",
        "\n",
        "from google.colab import drive\n",
        "drive.mount('/content/drive')"
      ]
    },
    {
      "cell_type": "code",
      "source": [
        "#@title Input Form\n",
        "\n",
        "Mode = \"Splitting\" #@param [\"Splitting\"]\n",
        "dataset = \"Youtube\" #@param [\"Youtube\", \"Drive\"]\n",
        "url = \"\" #@param {type:\"string\"}\n",
        "drive_path = \"\" #@param {type:\"string\"} #video path\n",
        "AUDIO_NAME = \"\" #@param {type:\"string\"}"
      ],
      "metadata": {
        "id": "SYT6hRGBeNYE"
      },
      "execution_count": null,
      "outputs": []
    },
    {
      "cell_type": "code",
      "source": [
        "#@title 1. Install Libraries\n",
        "%pip install yt_dlp\n",
        "%pip install ffmpeg\n",
        "%pip install -U demucs\n",
        "%pip install pydub\n",
        "%pip install numpy librosa soundfile\n",
        "\n",
        "import os\n",
        "import subprocess\n",
        "import shutil\n",
        "import yt_dlp\n",
        "from pydub import AudioSegment\n",
        "from pydub.silence import detect_nonsilent\n",
        "import librosa\n",
        "import soundfile as sf\n",
        "import numpy as np\n",
        "\n",
        "# Create directories\n",
        "os.makedirs('audio_input', exist_ok=True)\n",
        "os.makedirs('audio_output', exist_ok=True)\n",
        "os.makedirs('dataset', exist_ok=True)\n",
        "\n",
        "# Clear directories\n",
        "def clear_directory(directory):\n",
        "    if os.path.exists(directory):\n",
        "        shutil.rmtree(directory)\n",
        "    os.makedirs(directory)\n",
        "\n",
        "# Clear output directories\n",
        "clear_directory('audio_input')\n",
        "clear_directory('audio_output')\n",
        "clear_directory('dataset')"
      ],
      "metadata": {
        "id": "W3e6zJJEeNRt"
      },
      "execution_count": null,
      "outputs": []
    },
    {
      "cell_type": "code",
      "source": [
        "#@title 2. Download Audio\n",
        "if dataset == \"Drive\":\n",
        "  print(\"Dataset is set to Drive. Skipping YouTube section.\")\n",
        "elif dataset == \"Youtube\":\n",
        "  !mkdir youtubeaudio\n",
        "\n",
        "  ydl_opts = {\n",
        "      'format': 'bestaudio/best',\n",
        "      'postprocessors': [{\n",
        "          'key': 'FFmpegExtractAudio',\n",
        "          'preferredcodec': 'wav',\n",
        "      }],\n",
        "      \"outtmpl\": f'youtubeaudio/{AUDIO_NAME}',\n",
        "  }\n",
        "\n",
        "  def download_from_url(url):\n",
        "      with yt_dlp.YoutubeDL(ydl_opts) as ydl:\n",
        "          ydl.download([url])\n",
        "\n",
        "  download_from_url(url)\n",
        "  AUDIO_INPUT = f\"/content/youtubeaudio/{AUDIO_NAME}.wav\"\n",
        "  print(\"Downloaded YouTube audio.\")"
      ],
      "metadata": {
        "id": "sG-5r5z-eNKH"
      },
      "execution_count": null,
      "outputs": []
    },
    {
      "cell_type": "code",
      "source": [
        "#@title 3. Separate Vocal and Instrument/Noise using Demucs\n",
        "if dataset == \"Drive\":\n",
        "  command = f\"demucs --two-stems=vocals {drive_path}\"\n",
        "elif dataset == \"Youtube\":\n",
        "  command = f\"demucs --two-stems=vocals {AUDIO_INPUT}\"\n",
        "\n",
        "result = subprocess.run(command.split(), stdout=subprocess.PIPE)\n",
        "print(result.stdout.decode())\n",
        "\n",
        "VOCAL_PATH = f\"/content/separated/htdemucs/{AUDIO_NAME}/vocals.wav\"\n",
        "print(\"Separation complete.\")"
      ],
      "metadata": {
        "id": "oml-XBG9eNHA"
      },
      "execution_count": null,
      "outputs": []
    },
    {
      "cell_type": "code",
      "source": [
        "#@title 4. Remove Silence from Vocals\n",
        "def remove_silence(input_path, output_path):\n",
        "    # Load the audio file\n",
        "    audio = AudioSegment.from_file(input_path, format=\"wav\")\n",
        "\n",
        "    # Detect non-silent chunks\n",
        "    non_silents = detect_nonsilent(audio, min_silence_len=500, silence_thresh=-40)\n",
        "\n",
        "    # Combine non-silent chunks\n",
        "    output_audio = AudioSegment.empty()\n",
        "    for start, end in non_silents:\n",
        "        output_audio += audio[start:end]\n",
        "\n",
        "    # Export the processed audio file\n",
        "    output_audio.export(output_path, format=\"wav\")\n",
        "\n",
        "VOCAL_CLEANED_PATH = f\"/content/audio_output/{AUDIO_NAME}_cleaned.wav\"\n",
        "remove_silence(VOCAL_PATH, VOCAL_CLEANED_PATH)\n",
        "print(\"Silence removed.\")"
      ],
      "metadata": {
        "id": "bQO3F64veNEE"
      },
      "execution_count": null,
      "outputs": []
    },
    {
      "cell_type": "code",
      "source": [
        "#@title 5. Split the Cleaned Audio into Smaller Chunks\n",
        "class Slicer:\n",
        "    def __init__(self,\n",
        "                 sr: int,\n",
        "                 threshold: float = -40.,\n",
        "                 min_length: int = 5000,\n",
        "                 min_interval: int = 300,\n",
        "                 hop_size: int = 20,\n",
        "                 max_sil_kept: int = 5000):\n",
        "        if threshold > 0:\n",
        "            # ensure the threshold is negative as it represents dB\n",
        "            threshold *= -1\n",
        "        self.threshold = 10 ** (threshold / 20.)\n",
        "        self.hop_size = round(sr * hop_size / 1000)\n",
        "        self.min_length = round(sr * min_length / 1000 / self.hop_size)\n",
        "        self.min_interval = round(min_interval / self.hop_size)\n",
        "        self.max_sil_kept = round(sr * max_sil_kept / 1000 / self.hop_size)\n",
        "\n",
        "    def slice(self, waveform):\n",
        "        samples = waveform if len(waveform.shape) == 1 else waveform.mean(axis=0)\n",
        "        rms_list = librosa.feature.rms(y=samples, frame_length=2048, hop_length=512).squeeze()\n",
        "        sil_tags = []\n",
        "        silence_start = None\n",
        "        clip_start = 0\n",
        "        for i, rms in enumerate(rms_list):\n",
        "            # check if the rms is below the threshold\n",
        "            if rms < self.threshold:\n",
        "                if silence_start is None:\n",
        "                    silence_start = i\n",
        "                continue\n",
        "            # if not silent, check if there was a previous silence\n",
        "            if silence_start is None:\n",
        "                continue\n",
        "            # check if the silence is long enough and the clip is long enough\n",
        "            if silence_start > 0 and i - silence_start >= self.min_interval and i - clip_start >= self.min_length:\n",
        "                sil_tags.append([clip_start, i])\n",
        "                clip_start = i\n",
        "            silence_start = None\n",
        "        # add the last clip if it's long enough\n",
        "        if i - clip_start >= self.min_length:\n",
        "            sil_tags.append([clip_start, i])\n",
        "\n",
        "        # extract the audio clips based on the silence tags\n",
        "        chunks = []\n",
        "        for start, end in sil_tags:\n",
        "            chunks.append(waveform[:, start * 512: end * 512])\n",
        "        return chunks\n",
        "\n",
        "# Load the cleaned vocal audio\n",
        "audio, sr = librosa.load(VOCAL_CLEANED_PATH, sr=None, mono=False)\n",
        "\n",
        "# Initialize slicer\n",
        "slicer = Slicer(sr=sr, threshold=-40, min_length=5000, min_interval=500, hop_size=10, max_sil_kept=500)\n",
        "\n",
        "# Slice the audio\n",
        "chunks = slicer.slice(audio)\n",
        "\n",
        "# Ensure the directory exists\n",
        "!mkdir -p /content/dataset/{AUDIO_NAME}\n",
        "\n",
        "# Save sliced audio\n",
        "for i, chunk in enumerate(chunks):\n",
        "    chunk_filename = f'/content/dataset/{AUDIO_NAME}/split_{i}.wav'\n",
        "    sf.write(chunk_filename, chunk.T, sr) # Transpose the chunk array\n",
        "\n",
        "print(f\"Audio has been split and saved in /content/dataset/{AUDIO_NAME}/\")"
      ],
      "metadata": {
        "id": "Q2wyAJfweNBc"
      },
      "execution_count": null,
      "outputs": []
    },
    {
      "cell_type": "code",
      "source": [
        "#@title 6. Copy Results to Google Drive\n",
        "!mkdir -p /content/drive/MyDrive/audio/{AUDIO_NAME}\n",
        "!mkdir -p /content/drive/MyDrive/dataset/{AUDIO_NAME}\n",
        "!cp -r /content/separated/htdemucs/{AUDIO_NAME}/* /content/drive/MyDrive/audio/{AUDIO_NAME}\n",
        "!cp -r /content/dataset/{AUDIO_NAME}/* /content/drive/MyDrive/dataset/{AUDIO_NAME}"
      ],
      "metadata": {
        "id": "Dxs6DcMKeM-c"
      },
      "execution_count": null,
      "outputs": []
    }
  ]
}